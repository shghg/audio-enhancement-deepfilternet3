{
 "cells": [
  {
   "cell_type": "code",
   "execution_count": 1,
   "metadata": {},
   "outputs": [
    {
     "name": "stderr",
     "output_type": "stream",
     "text": [
      "usage: ipykernel_launcher.py [-h] --test_dir TEST_DIR --output_dir OUTPUT_DIR\n",
      "ipykernel_launcher.py: error: the following arguments are required: --test_dir, --output_dir\n"
     ]
    },
    {
     "ename": "SystemExit",
     "evalue": "2",
     "output_type": "error",
     "traceback": [
      "An exception has occurred, use %tb to see the full traceback.\n",
      "\u001b[0;31mSystemExit\u001b[0m\u001b[0;31m:\u001b[0m 2\n"
     ]
    },
    {
     "name": "stderr",
     "output_type": "stream",
     "text": [
      "/opt/anaconda3/lib/python3.12/site-packages/IPython/core/interactiveshell.py:3585: UserWarning: To exit: use 'exit', 'quit', or Ctrl-D.\n",
      "  warn(\"To exit: use 'exit', 'quit', or Ctrl-D.\", stacklevel=1)\n"
     ]
    }
   ],
   "source": [
    "import numpy as np\n",
    "import soundfile as sf\n",
    "import librosa\n",
    "import glob\n",
    "import os\n",
    "import argparse\n",
    "\n",
    "# Constants\n",
    "TARGET_SR = 16000  # Target Sampling Rate\n",
    "TARGET_RMS = -25   # Target Normalization Level\n",
    "LOW_ENERGY_THRESH = -60  # dB threshold for low energy detection\n",
    "\n",
    "def resample_audio(audio, sr, target_sr):\n",
    "    \"\"\"Resamples the audio to the target sampling rate if needed.\"\"\"\n",
    "    if sr != target_sr:\n",
    "        audio = librosa.resample(audio, orig_sr=sr, target_sr=target_sr)\n",
    "    return audio, target_sr\n",
    "\n",
    "def normalize_audio(audio, target_rms=-25):\n",
    "    \"\"\"Normalizes the audio signal to the target RMS level.\"\"\"\n",
    "    rms = np.sqrt(np.mean(audio**2))\n",
    "    rms_db = 20 * np.log10(rms + 1e-10)\n",
    "    gain = 10 ** ((target_rms - rms_db) / 20)\n",
    "    return audio * gain\n",
    "\n",
    "def detect_clipping(audio, threshold=0.99):\n",
    "    \"\"\"Detects if clipping occurs in an audio signal.\"\"\"\n",
    "    return np.any(np.abs(audio) >= threshold)\n",
    "\n",
    "def fix_clipping(audio, threshold=0.99):\n",
    "    \"\"\"Fixes clipping by scaling the audio down.\"\"\"\n",
    "    if detect_clipping(audio, threshold):\n",
    "        return audio * (threshold / np.max(np.abs(audio)))\n",
    "    return audio\n",
    "\n",
    "def remove_zero_energy(audio, num_samples=16000, low_energy_thresh=LOW_ENERGY_THRESH):\n",
    "    \"\"\"Ensures the start and end of the audio do not have zero energy segments.\"\"\"\n",
    "    start_energy = 20 * np.log10(np.mean(audio[:num_samples]**2) + 1e-10)\n",
    "    end_energy = 20 * np.log10(np.mean(audio[-num_samples:]**2) + 1e-10)\n",
    "\n",
    "    if start_energy < low_energy_thresh:\n",
    "        audio[:num_samples] += np.random.uniform(-0.0001, 0.0001, num_samples)\n",
    "    \n",
    "    if end_energy < low_energy_thresh:\n",
    "        audio[-num_samples:] += np.random.uniform(-0.0001, 0.0001, num_samples)\n",
    "    \n",
    "    return audio\n",
    "\n",
    "def process_audio(file_path, output_dir):\n",
    "    \"\"\"Processes a single audio file by fixing sampling rate, normalization, clipping, and zero-energy issues.\"\"\"\n",
    "    audio, sr = sf.read(file_path)\n",
    "\n",
    "    # Fix sampling rate\n",
    "    audio, sr = resample_audio(audio, sr, TARGET_SR)\n",
    "\n",
    "    # Normalize audio\n",
    "    audio = normalize_audio(audio, TARGET_RMS)\n",
    "\n",
    "    # Fix clipping\n",
    "    audio = fix_clipping(audio)\n",
    "\n",
    "    # Remove zero-energy segments\n",
    "    audio = remove_zero_energy(audio)\n",
    "\n",
    "    # Save processed file\n",
    "    output_path = os.path.join(output_dir, os.path.basename(file_path))\n",
    "    sf.write(output_path, audio, sr)\n",
    "    return output_path\n",
    "\n",
    "def batch_process(input_dir, output_dir):\n",
    "    \"\"\"Processes all WAV files in the input directory and saves them to the output directory.\"\"\"\n",
    "    if not os.path.exists(output_dir):\n",
    "        os.makedirs(output_dir)\n",
    "\n",
    "    files = glob.glob(os.path.join(input_dir, \"*.wav\"))\n",
    "    print(f\"🔹 Found {len(files)} test files to process.\")\n",
    "\n",
    "    for file_path in files:\n",
    "        output_path = process_audio(file_path, output_dir)\n",
    "        print(f\"✅ Processed: {output_path}\")\n",
    "\n",
    "    print(\"\\n🔹 Batch Processing Complete! 🔹\")\n",
    "\n",
    "if __name__ == '__main__':\n",
    "    parser = argparse.ArgumentParser()\n",
    "    parser.add_argument('--test_dir', type=str, required=True, help='Path to test set directory')\n",
    "    parser.add_argument('--output_dir', type=str, required=True, help='Path to output directory for fixed files')\n",
    "    args = parser.parse_args()\n",
    "\n",
    "    batch_process(args.test_dir, args.output_dir)\n"
   ]
  },
  {
   "cell_type": "code",
   "execution_count": null,
   "metadata": {},
   "outputs": [],
   "source": []
  }
 ],
 "metadata": {
  "kernelspec": {
   "display_name": "Python 3.12",
   "language": "python",
   "name": "python312"
  },
  "language_info": {
   "codemirror_mode": {
    "name": "ipython",
    "version": 3
   },
   "file_extension": ".py",
   "mimetype": "text/x-python",
   "name": "python",
   "nbconvert_exporter": "python",
   "pygments_lexer": "ipython3",
   "version": "3.12.7"
  }
 },
 "nbformat": 4,
 "nbformat_minor": 4
}
